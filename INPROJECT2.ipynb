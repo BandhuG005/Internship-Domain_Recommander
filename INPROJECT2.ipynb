{
  "nbformat": 4,
  "nbformat_minor": 0,
  "metadata": {
    "colab": {
      "provenance": [],
      "authorship_tag": "ABX9TyMMIc9x9BbKQ5u7y7TwSwv4",
      "include_colab_link": true
    },
    "kernelspec": {
      "name": "python3",
      "display_name": "Python 3"
    },
    "language_info": {
      "name": "python"
    }
  },
  "cells": [
    {
      "cell_type": "markdown",
      "metadata": {
        "id": "view-in-github",
        "colab_type": "text"
      },
      "source": [
        "<a href=\"https://colab.research.google.com/github/BandhuG005/Internship-Domain_Recommander/blob/main/INPROJECT2.ipynb\" target=\"_parent\"><img src=\"https://colab.research.google.com/assets/colab-badge.svg\" alt=\"Open In Colab\"/></a>"
      ]
    },
    {
      "cell_type": "code",
      "execution_count": 6,
      "metadata": {
        "colab": {
          "base_uri": "https://localhost:8080/",
          "height": 680
        },
        "id": "ZLlz4iO98hz8",
        "outputId": "42ad5951-ab11-4f11-bef0-9237541f2a82"
      },
      "outputs": [
        {
          "output_type": "stream",
          "name": "stderr",
          "text": [
            "/usr/local/lib/python3.11/dist-packages/gradio/interface.py:416: UserWarning: The `allow_flagging` parameter in `Interface` is deprecated.Use `flagging_mode` instead.\n",
            "  warnings.warn(\n"
          ]
        },
        {
          "output_type": "stream",
          "name": "stdout",
          "text": [
            "It looks like you are running Gradio on a hosted a Jupyter notebook. For the Gradio app to work, sharing must be enabled. Automatically setting `share=True` (you can turn this off by setting `share=False` in `launch()` explicitly).\n",
            "\n",
            "Colab notebook detected. To show errors in colab notebook, set debug=True in launch()\n",
            "* Running on public URL: https://bff1cbcd1dcf325891.gradio.live\n",
            "\n",
            "This share link expires in 1 week. For free permanent hosting and GPU upgrades, run `gradio deploy` from the terminal in the working directory to deploy to Hugging Face Spaces (https://huggingface.co/spaces)\n"
          ]
        },
        {
          "output_type": "display_data",
          "data": {
            "text/plain": [
              "<IPython.core.display.HTML object>"
            ],
            "text/html": [
              "<div><iframe src=\"https://bff1cbcd1dcf325891.gradio.live\" width=\"100%\" height=\"500\" allow=\"autoplay; camera; microphone; clipboard-read; clipboard-write;\" frameborder=\"0\" allowfullscreen></iframe></div>"
            ]
          },
          "metadata": {}
        },
        {
          "output_type": "execute_result",
          "data": {
            "text/plain": []
          },
          "metadata": {},
          "execution_count": 6
        }
      ],
      "source": [
        "# Imports\n",
        "import pandas as pd\n",
        "from sklearn.feature_extraction.text import TfidfVectorizer\n",
        "from sklearn.metrics.pairwise import cosine_similarity\n",
        "import gradio as gr\n",
        "import os\n",
        "\n",
        "# Internship domain dataset\n",
        "domain_data = pd.DataFrame({\n",
        "    'domain': [\n",
        "        'Artificial Intelligence',\n",
        "        'Web Development',\n",
        "        'Mobile App Development',\n",
        "        'Cybersecurity',\n",
        "        'Data Science',\n",
        "        'UI/UX Design',\n",
        "        'Content Writing',\n",
        "        'Marketing',\n",
        "        'Finance',\n",
        "        'Embedded Systems',\n",
        "        'Game Development',\n",
        "        'Cloud Computing',\n",
        "        'DevOps',\n",
        "        'Human Resources',\n",
        "        'Business Analytics'\n",
        "    ],\n",
        "    'features': [\n",
        "        'machine learning, neural networks, python, deep learning, AI, tensorflow, pytorch',\n",
        "        'HTML, CSS, JavaScript, React, websites, frontend, backend, APIs, web apps',\n",
        "        'Android, Kotlin, Java, Flutter, mobile apps, Play Store, iOS',\n",
        "        'network security, cryptography, ethical hacking, firewalls, CTFs, cybersecurity',\n",
        "        'statistics, Python, data analysis, data cleaning, visualization, pandas, numpy',\n",
        "        'design, wireframes, Figma, Adobe XD, color theory, UX, UI, user research',\n",
        "        'writing, grammar, blogging, storytelling, articles, editing, SEO',\n",
        "        'marketing, branding, SEO, social media, strategy, advertising, campaigns',\n",
        "        'finance, accounting, investment, banking, Excel, numbers, analytics',\n",
        "        'IoT, microcontrollers, C, C++, embedded systems, hardware, sensors',\n",
        "        'Unity, game design, 3D modeling, C#, animations, Unreal Engine, physics',\n",
        "        'cloud, AWS, Azure, Google Cloud, storage, deployment, Kubernetes',\n",
        "        'CI/CD, Jenkins, Docker, deployment, monitoring, automation',\n",
        "        'people management, hiring, communication, interviews, HR processes',\n",
        "        'Excel, business strategy, statistics, dashboards, KPIs, Power BI'\n",
        "    ]\n",
        "})\n",
        "\n",
        "# TF-IDF vectorization\n",
        "vectorizer = TfidfVectorizer()\n",
        "domain_vectors = vectorizer.fit_transform(domain_data['features'])\n",
        "\n",
        "# Recommendation function with logging\n",
        "def recommend_internship(skills, interests, experience):\n",
        "    user_input = f\"{skills}, {interests}, {experience}\"\n",
        "    user_vec = vectorizer.transform([user_input])\n",
        "    similarities = cosine_similarity(user_vec, domain_vectors)\n",
        "    top_indices = similarities[0].argsort()[-3:][::-1]\n",
        "    results = domain_data.iloc[top_indices][['domain']].values.flatten()\n",
        "\n",
        "    recommendation = f\"🔍 Based on your profile, we recommend:\\n1. {results[0]}\\n2. {results[1]}\\n3. {results[2]}\"\n",
        "\n",
        "    # Save to CSV log\n",
        "    log_df = pd.DataFrame({\n",
        "        'Skills': [skills],\n",
        "        'Interests': [interests],\n",
        "        'Experience': [experience],\n",
        "        'Recommendation 1': [results[0]],\n",
        "        'Recommendation 2': [results[1]],\n",
        "        'Recommendation 3': [results[2]]\n",
        "    })\n",
        "\n",
        "    log_file = 'recommendation_log.csv'\n",
        "    if os.path.exists(log_file):\n",
        "        log_df.to_csv(log_file, mode='a', header=False, index=False)\n",
        "    else:\n",
        "        log_df.to_csv(log_file, index=False)\n",
        "\n",
        "    return recommendation\n",
        "\n",
        "# Gradio Interface\n",
        "gr.Interface(\n",
        "    fn=recommend_internship,\n",
        "    inputs=[\n",
        "        gr.Textbox(label=\"Enter your technical skills\", placeholder=\"e.g. Python, HTML, Data Analysis\"),\n",
        "        gr.Textbox(label=\"Enter your interests\", placeholder=\"e.g. AI, design, cybersecurity\"),\n",
        "        gr.Textbox(label=\"Describe past projects or experiences\", placeholder=\"e.g. built a personal website, participated in hackathons\")\n",
        "    ],\n",
        "    outputs=\"text\",\n",
        "    title=\"🎯 AI Internship Domain Recommender\",\n",
        "    description=\"Get personalized internship domain suggestions based on your skills, interests, and past experiences.\",\n",
        "    allow_flagging=\"never\"\n",
        ").launch()\n"
      ]
    },
    {
      "cell_type": "code",
      "source": [],
      "metadata": {
        "id": "k9cxtp6a9Pcc"
      },
      "execution_count": null,
      "outputs": []
    }
  ]
}